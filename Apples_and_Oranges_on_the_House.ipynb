{
  "nbformat": 4,
  "nbformat_minor": 0,
  "metadata": {
    "colab": {
      "provenance": [],
      "authorship_tag": "ABX9TyNgQOdbXHLti6JKz3YWlf1L",
      "include_colab_link": true
    },
    "kernelspec": {
      "name": "python3",
      "display_name": "Python 3"
    },
    "language_info": {
      "name": "python"
    }
  },
  "cells": [
    {
      "cell_type": "markdown",
      "metadata": {
        "id": "view-in-github",
        "colab_type": "text"
      },
      "source": [
        "<a href=\"https://colab.research.google.com/github/Malika44/Problem-Solving/blob/main/Apples_and_Oranges_on_the_House.ipynb\" target=\"_parent\"><img src=\"https://colab.research.google.com/assets/colab-badge.svg\" alt=\"Open In Colab\"/></a>"
      ]
    },
    {
      "cell_type": "code",
      "execution_count": 2,
      "metadata": {
        "colab": {
          "base_uri": "https://localhost:8080/"
        },
        "id": "S7K1Wy7On5OE",
        "outputId": "c9298476-8b23-4ad6-f609-538847221f8c"
      },
      "outputs": [
        {
          "output_type": "stream",
          "name": "stdout",
          "text": [
            "Example 1:\n",
            "Number of apples that fall on the house: 1\n",
            "Number of oranges that fall on the house: 2\n",
            "\n",
            "Example 2:\n",
            "Number of apples that fall on the house: 1\n",
            "Number of oranges that fall on the house: 1\n"
          ]
        }
      ],
      "source": [
        "def count_apples_and_oranges(s, t, a, b, apples, oranges):\n",
        "    # Calculate final positions\n",
        "    apple_positions = [a + d for d in apples]\n",
        "    orange_positions = [b + d for d in oranges]\n",
        "\n",
        "    # Count fruits that fall on the house\n",
        "    apple_count = sum(1 for pos in apple_positions if s <= pos <= t)\n",
        "    orange_count = sum(1 for pos in orange_positions if s <= pos <= t)\n",
        "\n",
        "    print(f\"Number of apples that fall on the house: {apple_count}\")\n",
        "    print(f\"Number of oranges that fall on the house: {orange_count}\")\n",
        "\n",
        "# Example 1\n",
        "print(\"Example 1:\")\n",
        "s, t = 7, 10\n",
        "a, b = 4, 12\n",
        "apples = [2, 3, -4]\n",
        "oranges = [3, -2, -4]\n",
        "count_apples_and_oranges(s, t, a, b, apples, oranges)\n",
        "\n",
        "print(\"\\nExample 2:\")\n",
        "# Example 2\n",
        "s, t = 7, 11\n",
        "a, b = 5, 15\n",
        "apples = [-2, 2, 1]\n",
        "oranges = [5, -6]\n",
        "count_apples_and_oranges(s, t, a, b, apples, oranges)"
      ]
    }
  ]
}