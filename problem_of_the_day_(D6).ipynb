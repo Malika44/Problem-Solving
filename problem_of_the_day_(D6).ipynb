{
  "nbformat": 4,
  "nbformat_minor": 0,
  "metadata": {
    "colab": {
      "provenance": [],
      "authorship_tag": "ABX9TyOmkUQUGjQy4Xcp6fxvXhK8",
      "include_colab_link": true
    },
    "kernelspec": {
      "name": "python3",
      "display_name": "Python 3"
    },
    "language_info": {
      "name": "python"
    }
  },
  "cells": [
    {
      "cell_type": "markdown",
      "metadata": {
        "id": "view-in-github",
        "colab_type": "text"
      },
      "source": [
        "<a href=\"https://colab.research.google.com/github/Malika44/Problem-Solving/blob/main/problem_of_the_day_(D6).ipynb\" target=\"_parent\"><img src=\"https://colab.research.google.com/assets/colab-badge.svg\" alt=\"Open In Colab\"/></a>"
      ]
    },
    {
      "cell_type": "code",
      "execution_count": 1,
      "metadata": {
        "colab": {
          "base_uri": "https://localhost:8080/"
        },
        "id": "c5xvqdxMvlGh",
        "outputId": "ca0cbc2a-82fa-4465-9160-20e1af4ccf58"
      },
      "outputs": [
        {
          "output_type": "stream",
          "name": "stdout",
          "text": [
            "False\n",
            "True\n"
          ]
        }
      ],
      "source": [
        "def is_path_crossing(distances):\n",
        "    directions = [(0, 1), (-1, 0), (0, -1), (1, 0)]\n",
        "    x, y = 0, 0\n",
        "    visited = set()\n",
        "    visited.add((x, y))\n",
        "\n",
        "    dir_idx = 0  # start moving North\n",
        "\n",
        "    for dist in distances:\n",
        "        dx, dy = directions[dir_idx]\n",
        "        for _ in range(dist):\n",
        "            x += dx\n",
        "            y += dy\n",
        "            if (x, y) in visited:\n",
        "                return True\n",
        "            visited.add((x, y))\n",
        "        dir_idx = (dir_idx + 1) % 4\n",
        "\n",
        "    return False\n",
        "\n",
        "print(is_path_crossing([0, 1, 2, 3]))\n",
        "print(is_path_crossing([2, 1, 1, 2]))"
      ]
    }
  ]
}