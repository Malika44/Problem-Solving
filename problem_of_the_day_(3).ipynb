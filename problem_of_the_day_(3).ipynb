{
  "nbformat": 4,
  "nbformat_minor": 0,
  "metadata": {
    "colab": {
      "provenance": [],
      "authorship_tag": "ABX9TyPrGoAC8LLFRfNtNyC19uP4",
      "include_colab_link": true
    },
    "kernelspec": {
      "name": "python3",
      "display_name": "Python 3"
    },
    "language_info": {
      "name": "python"
    }
  },
  "cells": [
    {
      "cell_type": "markdown",
      "metadata": {
        "id": "view-in-github",
        "colab_type": "text"
      },
      "source": [
        "<a href=\"https://colab.research.google.com/github/Malika44/Problem-Solving/blob/main/problem_of_the_day_(3).ipynb\" target=\"_parent\"><img src=\"https://colab.research.google.com/assets/colab-badge.svg\" alt=\"Open In Colab\"/></a>"
      ]
    },
    {
      "cell_type": "code",
      "execution_count": 1,
      "metadata": {
        "colab": {
          "base_uri": "https://localhost:8080/"
        },
        "id": "SinK9MPIS0CX",
        "outputId": "6b4415a6-01d6-4492-a1ee-420393f2109d"
      },
      "outputs": [
        {
          "output_type": "stream",
          "name": "stdout",
          "text": [
            "Enter the size of the matrix (n x n): 3\n",
            "Enter the matrix rows:\n",
            "1 2 3\n",
            "2 4 5\n",
            "5 6 7\n",
            "Absolute Diagonal Difference: 0\n"
          ]
        }
      ],
      "source": [
        "n = int(input(\"Enter the size of the matrix (n x n): \"))\n",
        "matrix = []\n",
        "\n",
        "print(\"Enter the matrix rows:\")\n",
        "\n",
        "for _ in range(n):\n",
        "    row = list(map(int, input().split()))\n",
        "    matrix.append(row)\n",
        "\n",
        "primary_sum = 0\n",
        "secondary_sum = 0\n",
        "\n",
        "for i in range(n):\n",
        "    primary_sum += matrix[i][i]\n",
        "    secondary_sum += matrix[i][n - 1 - i]\n",
        "\n",
        "difference = abs(primary_sum - secondary_sum)\n",
        "print(\"Absolute Diagonal Difference:\", difference)"
      ]
    }
  ]
}